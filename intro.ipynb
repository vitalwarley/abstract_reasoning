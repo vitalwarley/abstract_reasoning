{
 "cells": [
  {
   "cell_type": "markdown",
   "metadata": {},
   "source": [
    "### Papers\n",
    "\n",
    "- [DeepCoder](https://arxiv.org/pdf/1611.01989.pdf)\n",
    "- [List of papers by Gabriel preda](https://www.kaggle.com/c/abstraction-and-reasoning-challenge/discussion/130794)\n",
    "- [WReN](https://www.kaggle.com/c/abstraction-and-reasoning-challenge/discussion/130364)"
   ]
  },
  {
   "cell_type": "code",
   "execution_count": null,
   "metadata": {},
   "outputs": [],
   "source": []
  },
  {
   "cell_type": "markdown",
   "metadata": {},
   "source": [
    "### Notebooks \n",
    "\n",
    "- [Starter Notebook](https://www.kaggle.com/inversion/abstraction-and-reasoning-starter-notebook)\n",
    "- [Visualize pairs with gridlines](https://www.kaggle.com/boliu0/visualizing-all-task-pairs-with-gridlines)\n",
    "- [Manual Coding for the First 10](https://www.kaggle.com/nagiss/manual-coding-for-the-first-10-tasks)\n",
    "- [View all data](https://www.kaggle.com/nagiss/abstraction-and-reasoning-view-all-data)\n",
    "- [Check the purpose](https://www.kaggle.com/t88take/check-the-purpose)\n",
    "- [EDA + PyTorch CNN](https://www.kaggle.com/tarunpaparaju/arc-competition-eda-pytorch-cnn): I didn't like so much...\n",
    "- [DSL and Genetic Algorithm applied to ARC](https://www.kaggle.com/zenol42/dsl-and-genetic-algorithm-applied-to-arc): this may be good.\n",
    "- [A Naive Image Manipulation DSL](https://www.kaggle.com/nanoix9/a-naive-image-manipulation-dsl)"
   ]
  },
  {
   "cell_type": "markdown",
   "metadata": {},
   "source": [
    "### Discussions\n",
    "\n",
    "- [DeepMind's papers in abstract and relational reasoning](https://www.kaggle.com/c/abstraction-and-reasoning-challenge/discussion/131741)\n",
    "- [Recursion](https://www.kaggle.com/c/abstraction-and-reasoning-challenge/discussion/130778#747811), with linked [paper](https://openreview.net/pdf?id=Skp1ESxRZ).\n"
   ]
  },
  {
   "cell_type": "code",
   "execution_count": null,
   "metadata": {},
   "outputs": [],
   "source": []
  },
  {
   "cell_type": "markdown",
   "metadata": {},
   "source": [
    "### Ideas"
   ]
  },
  {
   "cell_type": "markdown",
   "metadata": {},
   "source": [
    "My ideas\n",
    "\n",
    "- Summarize each sample in a given task in some other medium (similar to the program translation)?\n",
    "  - Inspired by [this paper](https://papers.nips.cc/paper/7845-learning-to-infer-graphics-programs-from-hand-drawn-images.pdf). And main author's [site](http://www.mit.edu/~ellisk/).\n",
    "- Genetic Programming for Program Synthesis.\n",
    "  - How the concepts of *gene*, *chromosome*, *genotype*, *phenotype* etc. applies to the ARC data?\n",
    "- Explore task with \"same\" pattern using the colab dataset about them that I have downloaded. Build on that; for 30 tasks in that category, try solving 10 and try generelize to the remaining.\n",
    "- Explore natural computing paradigms, specifically artificial immune systems algorithms. Maybe combine with genetic programming?\n",
    "- [Estimation of distribution algorithms](https://www.wikiwand.com/en/Estimation_of_distribution_algorithm) may be interesting with program syntheis in the search phase?\n",
    "  - *... are stochastic optimization methods that guide the search for the optimum by building and sampling explicit probabilistic models of promising candidate solutions.*\n",
    "  - It seems that it isn't only me who thinks [that](https://slideplayer.com/slide/10859008/).\n",
    "- Learning from past mistakes. Iterate over examples. Compression. What more?!\n",
    "  - Conflict-driven learning.\n",
    "- Program synthesis where the user intent is expressed in traces that could be learned, and then use the learned traces in new tasks?!\n",
    "- Program synthesis by examples.\n",
    "  - How to generalize programe examples from solutions to some tasks sharing some patterns?\n",
    "- Neural program synth, like https://arxiv.org/pdf/1703.07469.pdf and DeepCoder. How to predict which funtions to use given the task at hand? Each task more than one sample and share some regularities between its samples, like croping a specfic object. How can this be used?\n",
    "  - Continously searching for functions given the task at hand and the intermediate parts after applying these functinos in the output; converges when input == output. RL approach?\n",
    "- Embeddings? Embbed programs + in-out samples?\n",
    "- PushGP"
   ]
  },
  {
   "cell_type": "code",
   "execution_count": null,
   "metadata": {},
   "outputs": [],
   "source": []
  },
  {
   "cell_type": "markdown",
   "metadata": {},
   "source": [
    "Chollet advices\n",
    "\n",
    "- [1](https://twitter.com/fchollet/status/1228056479854317568/photo/1), [kaggle](https://www.kaggle.com/c/abstraction-and-reasoning-challenge/discussion/130360#745388): Take a few tasks, write by hand programs that solve them, and think...\n",
    "  - *Could they [the programs] be expressed more naturally in a different medium* (a Domain Specific Language; remember HTML is a DSL, as well as CSS, SQL etc.)?\n",
    "    - For example, some tasks require \"filling\" pixels, other require \"moving\" objects etc.\n",
    "    - It can be useful to describe the data properties such as *number of pixels*, because some tasks not only changes its pixels but increase its number.\n",
    "    - AST representation could be a useful/natural expression?!\n",
    "  - *What would a search process that outputs such programs look like?*\n",
    "    - There are some [options](https://www.microsoft.com/en-us/research/wp-content/uploads/2016/12/ppdp10-synthesis.pdf): brute-froce, version space, ml-based (probabilistic inference, genetic programming, logical reasoning).\n",
    "  - *How could you simplify this search by conditioning it on the task data?*\n",
    "    - Program synthesis can help here.\n",
    "    - For example, in the task of **filling pixels**, a question can be like \"based on this data, which program can perform this action?\".j\n",
    "      - Can be a search, can be synthesis, can be both?\n",
    "        - The **synthesis** could be in the *domain specific language* used. See task, see data, know actions, generates DSL code, perform actions?\n",
    "  - *Once you have a set of generated candidates for a solution program, how do you pick the one most likely to generalize?*\n",
    "    - Continuing from the example above: \"which program better generalizes?\"\n",
    "      - This is a difficult one, I think. I need to know more. How to measure proficiency at the desired task?\n",
    "        - I will need to evaluate my reasoning in solving the task, and see what non-solved task looks like.\n",
    "  - *If you want to use external data, or hard-code Core Knowledge priors -- all of this is allowed. Virtually anything is allowed. Just get those leaderboard scores to go down :)*\n",
    "- [2](https://www.youtube.com/watch?v=2L2u303FAs8&list=PLht6tyws1YpSOGz2k6bUC1PibVG7ZiRFB&index=6&t=0s): blending symbolic AI & geometric AI.\n",
    "  - How would that work here?\n",
    "- [3](https://www.wikiwand.com/en/Program_synthesis): program synthesis.\n",
    "  - Could help with 1.\n",
    "- [4](https://www.kaggle.com/c/abstraction-and-reasoning-challenge/discussion/130710#764733): *the test tasks only leverage Core Knowledge priors and nothing else.*\n",
    "- [5](https://www.kaggle.com/c/abstraction-and-reasoning-challenge/discussion/130345#745382): *The goal is develop an AI that will be capable of autonomously making sense of tasks it has never been directly programmed or trained to handle.*\n",
    "- [6](https://www.kaggle.com/c/abstraction-and-reasoning-challenge/discussion/130527#746338): *You can hard-code rules & knowledge, and you can use external data.*\n",
    "- [7](https://www.youtube.com/watch?v=U8ekfLYBGR0): his notes."
   ]
  },
  {
   "cell_type": "code",
   "execution_count": null,
   "metadata": {},
   "outputs": [],
   "source": []
  },
  {
   "cell_type": "markdown",
   "metadata": {},
   "source": [
    "Other advices\n",
    "\n",
    "- Jeremy P Howard gives [Genetic Programming](https://www.wikiwand.com/en/Genetic_programming), which may be used in the approach above, as suggested by FC.\n",
    "  - \"It is essentially a heuristic search technique often described as 'hill climbing', i.e. searching for an optimal or at least suitable program among the space of all programs.\"\n",
    "    - This may be an answer to the \"search process\".\n",
    "- Davide Bonin says: *The real challenge is writing each solution as a composition of (reasonably few) task-independent functions.*\n",
    "- [Pathan](https://www.kaggle.com/c/abstraction-and-reasoning-challenge/discussion/130345#748512): cites [Moravec paradox](https://www.wikiwand.com/en/Moravec%27s_paradox).\n",
    "- [jack liu](https://www.kaggle.com/c/abstraction-and-reasoning-challenge/discussion/130527#748780): deep concept."
   ]
  },
  {
   "cell_type": "markdown",
   "metadata": {},
   "source": [
    "### What to do\n",
    "\n",
    "Synthesizer dimensions:\n",
    "1. User intent: the kind of constraints that it accepts as expression of user intent.\n",
    "   - For exemple, input/output examples.\n",
    "   - A DSL encodes prior knowledge.\n",
    "2. Search space: the space of programs over which it searches.\n",
    "  - *The search space can be over imperative or functional programs (with possible restrictions on the control structure or the operator set), or over restricted models of computations such as regular/context-free grammars/transducers, or succinct logical representations.*\n",
    "3. Search technique: the search technique it employs.\n",
    "  - Machine learning techniques, for example: belief propagation or genetic programming.\n",
    "  - Reduce the search space by the use of abstractions."
   ]
  },
  {
   "cell_type": "markdown",
   "metadata": {},
   "source": [
    "- Priors scope: *background knowledge...?*\n",
    "    - Solve some questions:\n",
    "      - I'm doing this in [here](solving.ipyng) for the tasks with primarily `crop` pattern.\n",
    "- Program synthesis scope: *discovering programs that realize user intent.*\n",
    "    - Create a DSL to express the programs (the user intent? the constraints of the space of programs?).\n",
    "      - Input/output examples are a form of constraint. What are others complementary forms?\n",
    "    - Create the search framework\n",
    "      - Genetic framework?\n",
    "      - Bayeasian framework?\n",
    "\n",
    "\n",
    "Discussion\n",
    "\n",
    "- Each program has its specification based on a predetermined DSL.\n",
    "- *By specifying only the data type requirements for a problem, we can limit the number of instructions without cherry picking*. [[Fonte](http://cs.hamilton.edu/~thelmuth/Pubs/2015-GECCO-benchmark-suite.pdf)]\n",
    "- Semantic space vs syntax space and the natural iterative coding process.\n",
    "  - Bridging the gap between the syntax and semantics of a program. [[Source](https://arxiv.org/pdf/1906.04604.pdf)]\n",
    "- Jointly learning and searching.\n",
    "- Assess the execution state.\n",
    "- Recursion is the key to achieve generalizability. [[Source](https://openreview.net/pdf?id=Skp1ESxRZ)]\n",
    "  - Recursion divides the problem into smaller pieces and drastically reduces the domain of each neural network component, making it tractable to prove guarantees about the overall system’s behavior. https://arxiv.org/pdf/1704.06611.pdf\n",
    "- A central idea in unsupervised learning is compression: finding data representations that require the fewest bits to write down. https://papers.nips.cc/paper/5785-unsupervised-learning-by-program-synthesis.pdf\n",
    "- One aspect that makes abstract reasoning substantially difficult is the presence of distracting features in addition to the reasoning features that are necessary to solve the problem. Learning algorithms would have to leverage various counter-evidence to reject any false hypothesis before reaching the correct one. [1912.00569]\n",
    "  - Curriculum learning as way to help with that.\n",
    "  - Learn the curriculum? To automate."
   ]
  },
  {
   "cell_type": "markdown",
   "metadata": {},
   "source": [
    "# Load libraries and import some utility functions"
   ]
  },
  {
   "cell_type": "code",
   "execution_count": 1,
   "metadata": {},
   "outputs": [
    {
     "name": "stdout",
     "output_type": "stream",
     "text": [
      "arc\n",
      "arc/evaluation\n",
      "arc/test\n",
      "arc/training\n"
     ]
    }
   ],
   "source": [
    "import os\n",
    "import json\n",
    "from pathlib import Path\n",
    "\n",
    "import random\n",
    "import numpy as np\n",
    "import pandas as pd\n",
    "import matplotlib.pyplot as plt\n",
    "from matplotlib import colors\n",
    "\n",
    "for dirname, _, filenames in os.walk('arc'):\n",
    "    print(dirname)"
   ]
  },
  {
   "cell_type": "code",
   "execution_count": 11,
   "metadata": {},
   "outputs": [],
   "source": [
    "from data import training_path\n",
    "from data import training_tasks, evaluation_tasks, test_tasks\n",
    "from plot_utils import cmap, norm\n",
    "from plot_utils import load_and_plot, plot_one_ax\n",
    "from plot_utils import plot_task, plot_pred_and_target, plot_task_and_pred, just_plot\n",
    "from plot_utils import nth_sample"
   ]
  },
  {
   "cell_type": "code",
   "execution_count": 3,
   "metadata": {},
   "outputs": [],
   "source": [
    "%load_ext autoreload\n",
    "%autoreload 2\n",
    "%matplotlib inline"
   ]
  },
  {
   "cell_type": "code",
   "execution_count": 4,
   "metadata": {},
   "outputs": [
    {
     "name": "stdout",
     "output_type": "stream",
     "text": [
      "400 400 100\n"
     ]
    }
   ],
   "source": [
    "print(len(training_tasks), len(evaluation_tasks), len(test_tasks))"
   ]
  },
  {
   "cell_type": "code",
   "execution_count": 5,
   "metadata": {},
   "outputs": [
    {
     "data": {
      "image/png": "[encoded data removed]",
      "text/plain": [
       "<Figure size 1000x400 with 1 Axes>"
      ]
     },
     "metadata": {
      "needs_background": "light"
     },
     "output_type": "display_data"
    }
   ],
   "source": [
    "# 0:black, 1:blue, 2:red, 3:greed, 4:yellow,\n",
    "# 5:gray, 6:magenta, 7:orange, 8:sky, 9:brown\n",
    "plt.figure(figsize=(5, 2), dpi=200)\n",
    "plt.imshow([list(range(10))], cmap=cmap, norm=norm)\n",
    "plt.xticks(list(range(10)))\n",
    "plt.yticks([])\n",
    "plt.show()"
   ]
  },
  {
   "cell_type": "markdown",
   "metadata": {},
   "source": [
    "- Tasks have multiple `train` input-output pairs.\n",
    "- Most tasks have a single `test` input-output pairs, although some have more than one."
   ]
  },
  {
   "cell_type": "markdown",
   "metadata": {},
   "source": [
    "# DSL starter\n",
    "\n",
    "- Inspired by [Jérémy Cochoy](https://www.kaggle.com/zenol42/dsl-and-genetic-algorithm-applied-to-arc)"
   ]
  },
  {
   "cell_type": "code",
   "execution_count": 9,
   "metadata": {},
   "outputs": [
    {
     "data": {
      "image/png": "[encoded data removed]",
      "text/plain": [
       "<Figure size 1296x720 with 6 Axes>"
      ]
     },
     "metadata": {
      "needs_background": "light"
     },
     "output_type": "display_data"
    }
   ],
   "source": [
    "fname = '7468f01a.json'\n",
    "tid = training_tasks.index(fname)\n",
    "task_dict = load_and_plot(training_path, training_tasks[tid], return_what=2, task_id=tid, only_train=True)"
   ]
  },
  {
   "cell_type": "code",
   "execution_count": 19,
   "metadata": {},
   "outputs": [],
   "source": [
    "from dsl import crop_to_content, reflect_image\n",
    "from evaluation import evaluate, program_description"
   ]
  },
  {
   "cell_type": "code",
   "execution_count": 12,
   "metadata": {},
   "outputs": [],
   "source": [
    "task = task_dict['test']\n",
    "sample_id = 0\n",
    "pixmap_in, pixmap_out = nth_sample(task, sample_id)"
   ]
  },
  {
   "cell_type": "code",
   "execution_count": 20,
   "metadata": {},
   "outputs": [
    {
     "data": {
      "text/plain": [
       "'crop_to_content >> reflect_image'"
      ]
     },
     "execution_count": 20,
     "metadata": {},
     "output_type": "execute_result"
    }
   ],
   "source": [
    "program = [crop_to_content, reflect_image]\n",
    "program_description(program)"
   ]
  },
  {
   "cell_type": "code",
   "execution_count": 27,
   "metadata": {},
   "outputs": [
    {
     "name": "stderr",
     "output_type": "stream",
     "text": [
      "04/02/2020 01:26:49 PM:INFO: Applying crop_to_content...\n",
      "04/02/2020 01:26:49 PM:INFO: Applying reflect_image...\n"
     ]
    }
   ],
   "source": [
    "results = evaluate(program=program, input_image=pixmap_in)"
   ]
  },
  {
   "cell_type": "code",
   "execution_count": 28,
   "metadata": {},
   "outputs": [
    {
     "data": {
      "text/plain": [
       "[array([[1, 1, 1, 1, 1, 1, 1, 1],\n",
       "        [1, 1, 8, 8, 8, 1, 1, 1],\n",
       "        [1, 1, 1, 1, 1, 1, 1, 1],\n",
       "        [8, 8, 8, 1, 1, 1, 1, 1],\n",
       "        [1, 1, 1, 1, 1, 1, 1, 1],\n",
       "        [1, 1, 1, 1, 1, 8, 8, 1],\n",
       "        [1, 1, 1, 1, 8, 1, 1, 1]])]"
      ]
     },
     "execution_count": 28,
     "metadata": {},
     "output_type": "execute_result"
    }
   ],
   "source": [
    "results"
   ]
  },
  {
   "cell_type": "code",
   "execution_count": 31,
   "metadata": {},
   "outputs": [
    {
     "data": {
      "image/png": "[encoded data removed]",
      "text/plain": [
       "<Figure size 864x720 with 3 Axes>"
      ]
     },
     "metadata": {
      "needs_background": "light"
     },
     "output_type": "display_data"
    }
   ],
   "source": [
    "for img in results:\n",
    "    plot_task_and_pred(task, img, fname, sample_id)"
   ]
  }
 ],
 "metadata": {
  "kernelspec": {
   "display_name": "Python 3",
   "language": "python",
   "name": "python3"
  },
  "language_info": {
   "codemirror_mode": {
    "name": "ipython",
    "version": 3
   },
   "file_extension": ".py",
   "mimetype": "text/x-python",
   "name": "python",
   "nbconvert_exporter": "python",
   "pygments_lexer": "ipython3",
   "version": "3.7.6"
  }
 },
 "nbformat": 4,
 "nbformat_minor": 4
}
